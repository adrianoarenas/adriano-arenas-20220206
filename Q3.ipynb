{
 "cells": [
  {
   "cell_type": "markdown",
   "id": "b9367683",
   "metadata": {},
   "source": [
    "I've made the assumption assumptions:\n",
    "- Moving starts after the first BEGIN, even if integers or directions are input before\n",
    "- If there is an integer after BEGIN but before the first direction, this gets ignored\n",
    "    e.g. [BEGIN, 3, LEFT, 3...]\n",
    "- If consecutive integers are listed after a direction, these get added up \n",
    "    e.g. [.., LEFT, 3, 4, 1, RIGHT, 2...] -> We move 8 to the left and 2 to the right"
   ]
  },
  {
   "cell_type": "code",
   "execution_count": 10,
   "id": "12ce3de3",
   "metadata": {},
   "outputs": [],
   "source": [
    "from math import sqrt"
   ]
  },
  {
   "cell_type": "code",
   "execution_count": 11,
   "id": "8d701cbf",
   "metadata": {
    "scrolled": false
   },
   "outputs": [],
   "source": [
    "def robot_x_y(input_list):\n",
    "    x, y = 0, 0\n",
    "    i = input_list.index('BEGIN')+1\n",
    "    print(\"Started\")\n",
    "    while i<len(input_list):\n",
    "        if input_list[i] == 'LEFT':\n",
    "            j = 1\n",
    "            while type(input_list[i+j])==int:\n",
    "                x=x-input_list[i+j]\n",
    "                print(f\"Moved {input_list[i+j]} left\")\n",
    "                j+=1\n",
    "            i=i+j\n",
    "        elif input_list[i] == 'RIGHT':\n",
    "            j = 1\n",
    "            while type(input_list[i+j])==int:\n",
    "                x=x+input_list[i+j]\n",
    "                print(f\"Moved {input_list[i+j]} right\")\n",
    "                j+=1\n",
    "            i=i+j\n",
    "        elif input_list[i] == 'DOWN':\n",
    "            j = 1\n",
    "            while type(input_list[i+j])==int:\n",
    "                y=y-input_list[i+j]\n",
    "                print(f\"Moved {input_list[i+j]} down\")\n",
    "                j+=1\n",
    "            i=i+j\n",
    "        elif input_list[i] == 'UP':\n",
    "            j = 1\n",
    "            while type(input_list[i+j])==int:\n",
    "                y=y+input_list[i+j]\n",
    "                print(f\"Moved {input_list[i+j]} up\")\n",
    "                j+=1\n",
    "            i=i+j\n",
    "        elif input_list[i] == 'STOP':\n",
    "            print(\"Stopped\")\n",
    "            break\n",
    "    return(sqrt(x**2 + y**2))"
   ]
  },
  {
   "cell_type": "code",
   "execution_count": 12,
   "id": "dfe75564",
   "metadata": {},
   "outputs": [
    {
     "name": "stdout",
     "output_type": "stream",
     "text": [
      "Started\n",
      "Moved 4 left\n",
      "Moved 5 left\n",
      "Moved 3 left\n",
      "Moved 6 right\n",
      "Moved 4 down\n",
      "Moved 6 down\n",
      "Stopped\n",
      "Total distance traveled from (0,0) is 11.661903789690601 units\n"
     ]
    }
   ],
   "source": [
    "input_list = [1, 'LEFT', 3, 4, 'BEGIN', 'LEFT', 4, 5, 3, 'RIGHT', 6, 'DOWN', 4, 6, 'UP', 'STOP', 4]\n",
    "\n",
    "robot_distance = robot_x_y(input_list)\n",
    "print(f\"Total distance traveled from (0,0) is {robot_distance} units\")"
   ]
  }
 ],
 "metadata": {
  "kernelspec": {
   "display_name": "Python 3",
   "language": "python",
   "name": "python3"
  },
  "language_info": {
   "codemirror_mode": {
    "name": "ipython",
    "version": 3
   },
   "file_extension": ".py",
   "mimetype": "text/x-python",
   "name": "python",
   "nbconvert_exporter": "python",
   "pygments_lexer": "ipython3",
   "version": "3.8.3"
  }
 },
 "nbformat": 4,
 "nbformat_minor": 5
}
