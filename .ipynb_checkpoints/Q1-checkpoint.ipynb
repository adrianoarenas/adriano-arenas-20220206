{
 "cells": [
  {
   "cell_type": "code",
   "execution_count": 1,
   "id": "4e145c7b",
   "metadata": {},
   "outputs": [],
   "source": [
    "import pandas as pd\n",
    "from datetime import datetime"
   ]
  },
  {
   "cell_type": "code",
   "execution_count": 2,
   "id": "591ba48f",
   "metadata": {},
   "outputs": [],
   "source": [
    "df = pd.read_csv('data/Merge.csv')"
   ]
  },
  {
   "cell_type": "code",
   "execution_count": 3,
   "id": "f8bb774e",
   "metadata": {},
   "outputs": [
    {
     "data": {
      "text/plain": [
       "array(['10MIN', '1H', 'D'], dtype=object)"
      ]
     },
     "execution_count": 3,
     "metadata": {},
     "output_type": "execute_result"
    }
   ],
   "source": [
    "df.Resolution.unique()"
   ]
  },
  {
   "cell_type": "code",
   "execution_count": 5,
   "id": "852c83a5",
   "metadata": {},
   "outputs": [],
   "source": [
    "def sub_2h_resampling(df, freq):\n",
    "    filtered_df = df[df['Resolution'] == freq].copy()\n",
    "    filtered_df['Datetime'] = pd.to_datetime(filtered_df['Datetime'])\n",
    "    resampled_df = filtered_df.resample('2H', on='Datetime', closed='left', offset='1h').mean().dropna().rename(columns={'Price': f'Price_{freq}'})\n",
    "    return resampled_df"
   ]
  },
  {
   "cell_type": "code",
   "execution_count": 6,
   "id": "bc58c437",
   "metadata": {},
   "outputs": [],
   "source": [
    "def trading_hours_index(date_start, date_end):\n",
    "    \"\"\"\n",
    "    The daily granularity data becomes a bit more complex as we need to resample it to 07:00 - 17:00\n",
    "    For this wI created a custom calendar/index for between 07:00 and 17:00 for the defined dates\n",
    "    \"\"\"\n",
    "    index_date = pd.date_range(date_start, date_end)\n",
    "    index_date = pd.Series(index_date)\n",
    "    index_time = pd.date_range('07:00:00', '15:00:00', freq='2H')\n",
    "    index_time = pd.Series(index_time.time)\n",
    "\n",
    "    index = index_date.apply(\n",
    "        lambda d: index_time.apply(\n",
    "            lambda t: datetime.combine(d, t)\n",
    "            )\n",
    "        ).unstack().sort_values().reset_index(drop=True)\n",
    "    return index"
   ]
  },
  {
   "cell_type": "code",
   "execution_count": 7,
   "id": "1ae5cfa0",
   "metadata": {},
   "outputs": [],
   "source": [
    "def daily_resampling(df, start_date, end_date):\n",
    "    \"\"\"\n",
    "    I will use the re index function, but for this to work a value in the old index must match a value in the \n",
    "    new index (where the day starts at 07:00)\n",
    "    For this reason I just add 7 hours to the original Datetime in the Daily granularity -> 2021-11-01 07:00:00\n",
    "    \"\"\"\n",
    "    filtered_df = df[df['Resolution'] == 'D'].copy()\n",
    "    filtered_df['Datetime'] = pd.to_datetime(filtered_df['Datetime'])\n",
    "    filtered_df['Datetime'] = filtered_df['Datetime'] + pd.to_timedelta(7, unit='h')\n",
    "    \n",
    "    index = trading_hours_index(start_date, end_date)\n",
    "    \n",
    "    resampled_daily = filtered_df[['Datetime','Price']].set_index('Datetime').reindex(index=index, method = 'ffill').rename(columns={'Price': 'Price_daily'})\n",
    "    resampled_daily.index.name = 'Datetime'\n",
    "    \n",
    "    return resampled_daily"
   ]
  },
  {
   "cell_type": "code",
   "execution_count": 8,
   "id": "1c8d93ab",
   "metadata": {},
   "outputs": [],
   "source": [
    "resampled_10min = sub_2h_resampling(df, '10MIN')\n",
    "resampled_1h = sub_2h_resampling(df, '1H')\n",
    "\n",
    "resampled_daily = daily_resampling(df, '2021-11-01', '2021-11-30')"
   ]
  },
  {
   "cell_type": "code",
   "execution_count": 12,
   "id": "bf9106ab",
   "metadata": {},
   "outputs": [],
   "source": [
    "merged_df = resampled_10min.merge(resampled_1h, how='left', on ='Datetime').merge(resampled_daily, how='left', on = 'Datetime')"
   ]
  },
  {
   "cell_type": "code",
   "execution_count": 13,
   "id": "f37cdd13",
   "metadata": {},
   "outputs": [],
   "source": [
    "merged_df.to_csv('outputs/q1.csv')"
   ]
  },
  {
   "cell_type": "code",
   "execution_count": 14,
   "id": "241eb9c3",
   "metadata": {},
   "outputs": [
    {
     "data": {
      "text/html": [
       "<div>\n",
       "<style scoped>\n",
       "    .dataframe tbody tr th:only-of-type {\n",
       "        vertical-align: middle;\n",
       "    }\n",
       "\n",
       "    .dataframe tbody tr th {\n",
       "        vertical-align: top;\n",
       "    }\n",
       "\n",
       "    .dataframe thead th {\n",
       "        text-align: right;\n",
       "    }\n",
       "</style>\n",
       "<table border=\"1\" class=\"dataframe\">\n",
       "  <thead>\n",
       "    <tr style=\"text-align: right;\">\n",
       "      <th></th>\n",
       "      <th>Price_10MIN</th>\n",
       "      <th>Price_1H</th>\n",
       "      <th>Price_daily</th>\n",
       "    </tr>\n",
       "    <tr>\n",
       "      <th>Datetime</th>\n",
       "      <th></th>\n",
       "      <th></th>\n",
       "      <th></th>\n",
       "    </tr>\n",
       "  </thead>\n",
       "  <tbody>\n",
       "    <tr>\n",
       "      <th>2021-11-01 07:00:00</th>\n",
       "      <td>70.857500</td>\n",
       "      <td>71.2625</td>\n",
       "      <td>66.1</td>\n",
       "    </tr>\n",
       "    <tr>\n",
       "      <th>2021-11-01 09:00:00</th>\n",
       "      <td>71.566667</td>\n",
       "      <td>71.0625</td>\n",
       "      <td>66.1</td>\n",
       "    </tr>\n",
       "    <tr>\n",
       "      <th>2021-11-01 11:00:00</th>\n",
       "      <td>68.812500</td>\n",
       "      <td>67.5750</td>\n",
       "      <td>66.1</td>\n",
       "    </tr>\n",
       "    <tr>\n",
       "      <th>2021-11-01 13:00:00</th>\n",
       "      <td>63.250000</td>\n",
       "      <td>63.7000</td>\n",
       "      <td>66.1</td>\n",
       "    </tr>\n",
       "    <tr>\n",
       "      <th>2021-11-01 15:00:00</th>\n",
       "      <td>65.589583</td>\n",
       "      <td>65.8750</td>\n",
       "      <td>66.1</td>\n",
       "    </tr>\n",
       "    <tr>\n",
       "      <th>...</th>\n",
       "      <td>...</td>\n",
       "      <td>...</td>\n",
       "      <td>...</td>\n",
       "    </tr>\n",
       "    <tr>\n",
       "      <th>2021-11-30 07:00:00</th>\n",
       "      <td>97.335714</td>\n",
       "      <td>97.8750</td>\n",
       "      <td>91.7</td>\n",
       "    </tr>\n",
       "    <tr>\n",
       "      <th>2021-11-30 09:00:00</th>\n",
       "      <td>98.860417</td>\n",
       "      <td>98.6250</td>\n",
       "      <td>91.7</td>\n",
       "    </tr>\n",
       "    <tr>\n",
       "      <th>2021-11-30 11:00:00</th>\n",
       "      <td>96.662500</td>\n",
       "      <td>96.3625</td>\n",
       "      <td>91.7</td>\n",
       "    </tr>\n",
       "    <tr>\n",
       "      <th>2021-11-30 13:00:00</th>\n",
       "      <td>96.506250</td>\n",
       "      <td>97.3125</td>\n",
       "      <td>91.7</td>\n",
       "    </tr>\n",
       "    <tr>\n",
       "      <th>2021-11-30 15:00:00</th>\n",
       "      <td>94.468750</td>\n",
       "      <td>94.1750</td>\n",
       "      <td>91.7</td>\n",
       "    </tr>\n",
       "  </tbody>\n",
       "</table>\n",
       "<p>110 rows × 3 columns</p>\n",
       "</div>"
      ],
      "text/plain": [
       "                     Price_10MIN  Price_1H  Price_daily\n",
       "Datetime                                               \n",
       "2021-11-01 07:00:00    70.857500   71.2625         66.1\n",
       "2021-11-01 09:00:00    71.566667   71.0625         66.1\n",
       "2021-11-01 11:00:00    68.812500   67.5750         66.1\n",
       "2021-11-01 13:00:00    63.250000   63.7000         66.1\n",
       "2021-11-01 15:00:00    65.589583   65.8750         66.1\n",
       "...                          ...       ...          ...\n",
       "2021-11-30 07:00:00    97.335714   97.8750         91.7\n",
       "2021-11-30 09:00:00    98.860417   98.6250         91.7\n",
       "2021-11-30 11:00:00    96.662500   96.3625         91.7\n",
       "2021-11-30 13:00:00    96.506250   97.3125         91.7\n",
       "2021-11-30 15:00:00    94.468750   94.1750         91.7\n",
       "\n",
       "[110 rows x 3 columns]"
      ]
     },
     "execution_count": 14,
     "metadata": {},
     "output_type": "execute_result"
    }
   ],
   "source": [
    "merged_df"
   ]
  },
  {
   "cell_type": "code",
   "execution_count": null,
   "id": "7d397aad",
   "metadata": {},
   "outputs": [],
   "source": []
  }
 ],
 "metadata": {
  "kernelspec": {
   "display_name": "Python 3",
   "language": "python",
   "name": "python3"
  },
  "language_info": {
   "codemirror_mode": {
    "name": "ipython",
    "version": 3
   },
   "file_extension": ".py",
   "mimetype": "text/x-python",
   "name": "python",
   "nbconvert_exporter": "python",
   "pygments_lexer": "ipython3",
   "version": "3.8.3"
  }
 },
 "nbformat": 4,
 "nbformat_minor": 5
}
